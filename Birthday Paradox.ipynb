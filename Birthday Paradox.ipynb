{
 "cells": [
  {
   "cell_type": "code",
   "execution_count": 62,
   "metadata": {},
   "outputs": [
    {
     "data": {
      "image/png": "[encoded data removed]",
      "text/plain": [
       "<matplotlib.figure.Figure at 0x1068a1b00>"
      ]
     },
     "metadata": {},
     "output_type": "display_data"
    },
    {
     "data": {
      "text/plain": [
       "'done'"
      ]
     },
     "execution_count": 62,
     "metadata": {},
     "output_type": "execute_result"
    }
   ],
   "source": [
    "import pandas as pd\n",
    "import random\n",
    "import matplotlib.pyplot as plt\n",
    "\n",
    "athletes = pd.read_csv('./athletes.csv')\n",
    "athletes = athletes[athletes['dob'].notnull()]\n",
    "birthdays = []\n",
    "\n",
    "for i in athletes['dob']:\n",
    "    arr = i.split(\"/\")\n",
    "    birthdays.append([arr[0], arr[1]])\n",
    "    \n",
    "def ifparadox(samplesize):\n",
    "    rand_smpl = [ birthdays[i] for i in sorted(random.sample(range(len(birthdays)), samplesize)) ]\n",
    "    s = set()\n",
    "    for i in rand_smpl:\n",
    "        s.add(str(i[0] + '/' + i[1]))\n",
    "    if len(s) != samplesize:\n",
    "        return True\n",
    "    return False\n",
    "\n",
    "def classicparadox(trialsize, samplesize):\n",
    "    counter = 0\n",
    "    for i in range(trialsize):\n",
    "        if ifparadox(samplesize):\n",
    "            counter += 1\n",
    "    return counter/trialsize\n",
    "\n",
    "def iffauxbirthdayproblem(samplesize):\n",
    "    rand_smpl = [birthdays[i] for i in sorted(random.sample(range(len(birthdays)), samplesize))]\n",
    "    birthday = str(rand_smpl[0][0] + '/' + rand_smpl[0][1])\n",
    "    for i in rand_smpl[1:]:\n",
    "        if str(i[0] + '/' + i[1]) == birthday:\n",
    "            return True\n",
    "    return False\n",
    "\n",
    "\n",
    "def fauxbirthdayproblem(trialsize, samplesize):\n",
    "    counter = 0\n",
    "    for i in range(trialsize):\n",
    "        if iffauxbirthdayproblem(samplesize):\n",
    "            counter += 1\n",
    "    return counter/trialsize\n",
    "\n",
    "\n",
    "#Find the probability that atleast a given number of people have the same birthday\n",
    "def ifbirthdayproblem(samplesize, number): # \"number\" refers to atleast that number of people having same birthday\n",
    "    rand_smpl = [birthdays[i] for i in sorted(random.sample(range(len(birthdays)), samplesize))]\n",
    "    d = {}\n",
    "    for i in rand_smpl:\n",
    "        if str(i[0] + '/' + i[1]) in d:\n",
    "            d[str(i[0] + '/' + i[1])] += 1\n",
    "        else:\n",
    "            d[str(i[0] + '/' + i[1])] = 1\n",
    "    if number in d.values():\n",
    "        return True\n",
    "    return False\n",
    "\n",
    "def birthdayproblem2(trialsize, samplesize, number):\n",
    "    counter = 0\n",
    "    for i in range(trialsize):\n",
    "        if ifbirthdayproblem(samplesize, number):\n",
    "            counter += 1\n",
    "    return counter/trialsize\n",
    "\n",
    "\n",
    "# modify this function to print the above functions\n",
    "def plot():\n",
    "    x = []\n",
    "    y = []\n",
    "    for i in range(1, 300):\n",
    "        x.append(i)\n",
    "        y.append(birthdayproblem2(50, i, 4))\n",
    "    plt.scatter(x, y)\n",
    "    plt.show()\n",
    "    return \"done\"\n",
    "\n",
    "plot()"
   ]
  },
  {
   "cell_type": "code",
   "execution_count": null,
   "metadata": {},
   "outputs": [],
   "source": []
  },
  {
   "cell_type": "code",
   "execution_count": null,
   "metadata": {},
   "outputs": [],
   "source": []
  }
 ],
 "metadata": {
  "kernelspec": {
   "display_name": "Python 3",
   "language": "python",
   "name": "python3"
  },
  "language_info": {
   "codemirror_mode": {
    "name": "ipython",
    "version": 3
   },
   "file_extension": ".py",
   "mimetype": "text/x-python",
   "name": "python",
   "nbconvert_exporter": "python",
   "pygments_lexer": "ipython3",
   "version": "3.6.3"
  }
 },
 "nbformat": 4,
 "nbformat_minor": 2
}
