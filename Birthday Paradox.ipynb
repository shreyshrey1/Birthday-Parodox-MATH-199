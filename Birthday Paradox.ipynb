{
 "cells": [
  {
   "cell_type": "code",
   "execution_count": 23,
   "metadata": {},
   "outputs": [
    {
     "data": {
      "image/png": "[encoded data removed]",
      "text/plain": [
       "<matplotlib.figure.Figure at 0x10a140048>"
      ]
     },
     "metadata": {},
     "output_type": "display_data"
    },
    {
     "data": {
      "text/plain": [
       "'done'"
      ]
     },
     "execution_count": 23,
     "metadata": {},
     "output_type": "execute_result"
    }
   ],
   "source": [
    "import pandas as pd\n",
    "import random\n",
    "import matplotlib.pyplot as plt\n",
    "athletes = pd.read_csv('./athletes.csv')\n",
    "athletes = athletes[athletes['dob'].notnull()]\n",
    "birthdays = []\n",
    "\n",
    "for i in athletes['dob']:\n",
    "    arr = i.split(\"/\")\n",
    "    birthdays.append([arr[0], arr[1]])\n",
    "    \n",
    "def ifparadox(samplesize):\n",
    "    rand_smpl = [ birthdays[i] for i in sorted(random.sample(range(len(birthdays)), samplesize)) ]\n",
    "    s = set()\n",
    "    for i in rand_smpl:\n",
    "        s.add(str(i[0] + '/' + i[1]))\n",
    "    if len(s) != samplesize:\n",
    "        return True\n",
    "    return False\n",
    "\n",
    "def classicparadox(trialsize, samplesize):\n",
    "    counter = 0\n",
    "    for i in range(trialsize):\n",
    "        if ifparadox(samplesize):\n",
    "            counter += 1\n",
    "    return counter/trialsize\n",
    "\n",
    "def plot():\n",
    "    samplesize = []\n",
    "    probability = []\n",
    "    for i in range(100):\n",
    "        samplesize.append(i)\n",
    "        probability.append(classicparadox(1000, i))\n",
    "    plt.scatter(samplesize, probability)\n",
    "    plt.show()\n",
    "    return \"done\"\n",
    "\n",
    "plot()"
   ]
  },
  {
   "cell_type": "code",
   "execution_count": null,
   "metadata": {},
   "outputs": [],
   "source": []
  },
  {
   "cell_type": "code",
   "execution_count": null,
   "metadata": {},
   "outputs": [],
   "source": []
  }
 ],
 "metadata": {
  "kernelspec": {
   "display_name": "Python 3",
   "language": "python",
   "name": "python3"
  },
  "language_info": {
   "codemirror_mode": {
    "name": "ipython",
    "version": 3
   },
   "file_extension": ".py",
   "mimetype": "text/x-python",
   "name": "python",
   "nbconvert_exporter": "python",
   "pygments_lexer": "ipython3",
   "version": "3.6.3"
  }
 },
 "nbformat": 4,
 "nbformat_minor": 2
}
