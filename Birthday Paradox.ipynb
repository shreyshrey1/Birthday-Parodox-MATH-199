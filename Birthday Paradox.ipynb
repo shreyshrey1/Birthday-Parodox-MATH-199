{
 "cells": [
  {
   "cell_type": "code",
   "execution_count": 36,
   "metadata": {},
   "outputs": [
    {
     "name": "stdout",
     "output_type": "stream",
     "text": [
      "False\n"
     ]
    }
   ],
   "source": [
    "import pandas as pd\n",
    "import random\n",
    "athletes = pd.read_csv('./athletes.csv')\n",
    "athletes = athletes[athletes['dob'].notnull()]\n",
    "birthdays = []\n",
    "for i in athletes['dob']:\n",
    "    arr = i.split(\"/\")\n",
    "    birthdays.append([arr[0], arr[1]])\n",
    "    \n",
    "def ifparodox(samplesize):\n",
    "    rand_smpl = [ birthdays[i] for i in sorted(random.sample(range(len(birthdays)), samplesize)) ]\n",
    "    s = set()\n",
    "    for i in rand_smpl:\n",
    "        s.add(str(i[0] + '/' + i[1]))\n",
    "    if len(s) != samplesize:\n",
    "        return True\n",
    "    return False\n",
    "        \n",
    "print(ifparodox(30))"
   ]
  },
  {
   "cell_type": "code",
   "execution_count": null,
   "metadata": {},
   "outputs": [],
   "source": []
  },
  {
   "cell_type": "code",
   "execution_count": null,
   "metadata": {},
   "outputs": [],
   "source": []
  }
 ],
 "metadata": {
  "kernelspec": {
   "display_name": "Python 3",
   "language": "python",
   "name": "python3"
  },
  "language_info": {
   "codemirror_mode": {
    "name": "ipython",
    "version": 3
   },
   "file_extension": ".py",
   "mimetype": "text/x-python",
   "name": "python",
   "nbconvert_exporter": "python",
   "pygments_lexer": "ipython3",
   "version": "3.6.3"
  }
 },
 "nbformat": 4,
 "nbformat_minor": 2
}
