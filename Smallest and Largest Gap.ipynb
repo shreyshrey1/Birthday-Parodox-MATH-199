{
 "cells": [
  {
   "cell_type": "code",
   "execution_count": 21,
   "metadata": {},
   "outputs": [],
   "source": [
    "from random import *\n",
    "import matplotlib.pyplot as plt\n",
    "\n",
    "def average(arr): #Helper function to find average of array\n",
    "    s = 0\n",
    "    for i in range(len(arr)):\n",
    "        s += arr[i]\n",
    "    return s / len(arr)\n",
    "\n",
    "def smallest_gap(n):\n",
    "    for i in range(100): #100 trials per n value\n",
    "        randoms = []\n",
    "        for i in range(n): #Array of random floats from 0 to 1\n",
    "            randoms.append(random())\n",
    "        randoms.sort() #Sorting to find gaps easily\n",
    "        gaps = []\n",
    "        for i in range(1, n): #Finding gaps between each number\n",
    "            gaps.append(randoms[i] - randoms[i - 1])\n",
    "        gaps.sort()\n",
    "        mingap = []\n",
    "        mingap.append(gaps[0]) #Adding the min gap to an array\n",
    "    m = average(mingap) #Averaging same array to get an average min gap, m(n)\n",
    "    return m\n",
    "\n",
    "def max_gap(n):\n",
    "    for i in range(100): #100 trials per n value\n",
    "        randoms = []\n",
    "        for i in range(n): #Array of random floats from 0 to 1\n",
    "            randoms.append(random())\n",
    "        randoms.sort() #Sorting to find gaps easily\n",
    "        gaps = []\n",
    "        for i in range(1, n): #Finding gaps between each number\n",
    "            gaps.append(randoms[i] - randoms[i - 1])\n",
    "        gaps.sort()\n",
    "        maxgap = [] \n",
    "        maxgap.append(gaps[len(gaps) - 1]) #Adding the max gap to an array\n",
    "    M = average(maxgap) #Averaging same array to get an average max gap, M(n)\n",
    "    return M\n",
    "\n",
    "\n",
    "#Data Collection\n",
    "datamin = []\n",
    "datamax = []\n",
    "for i in range(1, 6):\n",
    "    datamin.append(smallest_gap(10**i))\n",
    "for i in range(1, 6):\n",
    "    datamax.append(max_gap(10**i))\n",
    "\n",
    "#Output\n",
    "datamin = [0.012214478852286326, 9.446123345302482e-06, 4.705290584938737e-07, 4.293731592497352e-09, 2.3882895661131442e-11]\n",
    "datamax = [0.3165900514634078, 0.04169079319773361, 0.006420229026106172, 0.0009591930681643879, 0.00014411327582519728]\n",
    "\n",
    "#n values for reference\n",
    "n = [10**1, 10**2, 10**3, 10**4, 10**5]\n"
   ]
  },
  {
   "cell_type": "code",
   "execution_count": null,
   "metadata": {},
   "outputs": [],
   "source": []
  }
 ],
 "metadata": {
  "kernelspec": {
   "display_name": "Python 3",
   "language": "python",
   "name": "python3"
  },
  "language_info": {
   "codemirror_mode": {
    "name": "ipython",
    "version": 3
   },
   "file_extension": ".py",
   "mimetype": "text/x-python",
   "name": "python",
   "nbconvert_exporter": "python",
   "pygments_lexer": "ipython3",
   "version": "3.6.3"
  }
 },
 "nbformat": 4,
 "nbformat_minor": 2
}
